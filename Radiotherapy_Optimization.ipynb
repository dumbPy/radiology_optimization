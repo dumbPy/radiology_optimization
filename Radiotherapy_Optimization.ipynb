{
 "cells": [
  {
   "cell_type": "markdown",
   "metadata": {},
   "source": [
    "# Cancer Radiology Optimization\n",
    "\n",
    "This Code Deals with Python Implimentation of the Paper [*Optimizing the Delivery of\n",
    "Radiation Therapy to Cancer Patients* by David M Sheperd et. al. 1999](https://doi.org/10.1137/S0036144598342032) and then solving the problem given below using the Optimization Technique described in the above paper.\n",
    "\n",
    "The Radiotherapy technique described in the above paper is also called as ***Tomotherapy***"
   ]
  },
  {
   "cell_type": "markdown",
   "metadata": {},
   "source": [
    "Suppose we want to design an IMRT setup to obtain a dose corresponding to the following figure.\n",
    "\n",
    "![Image](https://lh3.googleusercontent.com/pVkc8Or2Tj2ninBZCKhSbRMXABF4YZkXpUdC7gaBrtRSJRX-T8m47gbCuDX-CXcxqMaa7P4yxqU)\n",
    "\n",
    "\n",
    "\n",
    "Assume that we want to achieve close to 10 units of radiation in the red region (denoting a tumor)\n",
    "and be as much below 4 units as possible in the remaining portion. You may assume the radiation\n",
    "intensity diminishes to half every 4 units (which means that this relation is not linear).\n",
    "Assuming that each beam is 1 unit wide, find a suitable configuration of beam weights and angles\n",
    "that can realize a plan as close as possible to the desired treatment. You may further assume that\n",
    "each beam is composed of 20 small beamlets each of whose intensities can be controlled separately.\n",
    "Solve one of the LPs or QPs proposed described by Shephard et al and find the optimal configuration.\n",
    "Describe the configuration in a readable manner. Also draw a pictorial representation of\n",
    "the intensity pattern achieved by your proposed solution. Comment on its quality. Clearly state\n",
    "all your assumptions and choices of parameters."
   ]
  },
  {
   "cell_type": "code",
   "execution_count": 3,
   "metadata": {},
   "outputs": [],
   "source": [
    "import numpy as np\n",
    "import matplotlib.pyplot as plt\n",
    "from amplpy import AMPL\n",
    "from scipy.spatial import distance as dist\n",
    "from math import exp"
   ]
  },
  {
   "cell_type": "markdown",
   "metadata": {},
   "source": [
    "### The Equation Formulation used is as per the below section of the original paper\n",
    "\n",
    "\n",
    "![Optimization Equation Formulation](https://lh3.googleusercontent.com/AgAYxUEkWx8GepAaODjgxY03sk7b8TdVTMcDcicAVFZ1AuAyPjeHp_cbyOoXz1hUJMA--xB-bVo)"
   ]
  },
  {
   "cell_type": "markdown",
   "metadata": {},
   "source": [
    "### Initializing all the parameters and variables"
   ]
  },
  {
   "cell_type": "code",
   "execution_count": 5,
   "metadata": {
    "collapsed": true
   },
   "outputs": [
    {
     "name": "stdout",
     "output_type": "stream",
     "text": [
      "***********************************************************************\n",
      "* Please make sure that the AMPL folder is in the system search path. *\n",
      "***********************************************************************\n"
     ]
    },
    {
     "ename": "RuntimeError",
     "evalue": "AMPL could not be started. Message from process thread:\ncannot execute ampl: No such file or directory\n\n",
     "output_type": "error",
     "traceback": [
      "\u001b[0;31m---------------------------------------------------------------------------\u001b[0m",
      "\u001b[0;31mRuntimeError\u001b[0m                              Traceback (most recent call last)",
      "\u001b[0;32m<ipython-input-5-e995caf8b524>\u001b[0m in \u001b[0;36m<module>\u001b[0;34m()\u001b[0m\n\u001b[1;32m      6\u001b[0m \u001b[0;34m\u001b[0m\u001b[0m\n\u001b[1;32m      7\u001b[0m \u001b[0;31m#Initialization of the optimization model\u001b[0m\u001b[0;34m\u001b[0m\u001b[0;34m\u001b[0m\u001b[0m\n\u001b[0;32m----> 8\u001b[0;31m \u001b[0mproblem\u001b[0m \u001b[0;34m=\u001b[0m \u001b[0mAMPL\u001b[0m\u001b[0;34m(\u001b[0m\u001b[0;34m)\u001b[0m\u001b[0;34m\u001b[0m\u001b[0m\n\u001b[0m\u001b[1;32m      9\u001b[0m \u001b[0;34m\u001b[0m\u001b[0m\n\u001b[1;32m     10\u001b[0m problem.eval(\"\"\"\n",
      "\u001b[0;32m~/anaconda3/lib/python3.6/site-packages/amplpy/ampl.py\u001b[0m in \u001b[0;36m__init__\u001b[0;34m(self, environment)\u001b[0m\n\u001b[1;32m     97\u001b[0m         \u001b[0;32mif\u001b[0m \u001b[0menvironment\u001b[0m \u001b[0;32mis\u001b[0m \u001b[0;32mNone\u001b[0m\u001b[0;34m:\u001b[0m\u001b[0;34m\u001b[0m\u001b[0m\n\u001b[1;32m     98\u001b[0m             \u001b[0;32mtry\u001b[0m\u001b[0;34m:\u001b[0m\u001b[0;34m\u001b[0m\u001b[0m\n\u001b[0;32m---> 99\u001b[0;31m                 \u001b[0mself\u001b[0m\u001b[0;34m.\u001b[0m\u001b[0m_impl\u001b[0m \u001b[0;34m=\u001b[0m \u001b[0mamplpython\u001b[0m\u001b[0;34m.\u001b[0m\u001b[0mAMPL\u001b[0m\u001b[0;34m(\u001b[0m\u001b[0;34m)\u001b[0m\u001b[0;34m\u001b[0m\u001b[0m\n\u001b[0m\u001b[1;32m    100\u001b[0m             \u001b[0;32mexcept\u001b[0m \u001b[0mRuntimeError\u001b[0m \u001b[0;32mas\u001b[0m \u001b[0me\u001b[0m\u001b[0;34m:\u001b[0m\u001b[0;34m\u001b[0m\u001b[0m\n\u001b[1;32m    101\u001b[0m                 \u001b[0;32mfrom\u001b[0m \u001b[0msys\u001b[0m \u001b[0;32mimport\u001b[0m \u001b[0mstderr\u001b[0m\u001b[0;34m\u001b[0m\u001b[0m\n",
      "\u001b[0;31mRuntimeError\u001b[0m: AMPL could not be started. Message from process thread:\ncannot execute ampl: No such file or directory\n\n"
     ]
    }
   ],
   "source": [
    "radi     =  3  #Radius of the circular organ region   \n",
    "grid_sz  =  6  # Length of the grid square area (grid size)\n",
    "grid_res = 20  # 1 unit length to be devided in grid_res Number of pizels per length\n",
    "beamlets = 20  # Number of beamlets per beam. All the beamlets in a beam have same angle\n",
    "pos      =  5  # Total angular positions of the setup\n",
    "\n",
    "#All length parameters will be multiplied with grid_res from hence forth\n",
    "grid_sz *= grid_res\n",
    "radi    *= grid_res\n",
    "center   = (radi, radi)\n",
    "positions = np.linspace(0, 360, num=pos, endpoint=False)"
   ]
  },
  {
   "cell_type": "markdown",
   "metadata": {
    "collapsed": true
   },
   "source": [
    "### Function for generating Dij_p matrix\n",
    "\n",
    "Dij_p matrix is generated for each beamlet at each position. "
   ]
  },
  {
   "cell_type": "code",
   "execution_count": null,
   "metadata": {},
   "outputs": [],
   "source": [
    "def GET_Dijp(angle, beamlet_no):\n",
    "    \"\"\"\n",
    "    Beamlet Number starts at 0 to n-1 for n beamlets\n",
    "    Returns a D_ij_p matrix\n",
    "    \"\"\"\n",
    "    def IN_COL(coordinates):\n",
    "        i = coordinates[0]; j = coordinates[1]\n",
    "        res = grid_res\n",
    "        if i>=(2.5+beamlet_no/20)*res and i<=(2.55+beamlet_no/20)*res:\n",
    "            return(exp(-1*j/(4*grid_res)))\n",
    "        else:\n",
    "            return 0\n",
    "\n",
    "    col = np.asarray([[IN_COL((i, j)) \n",
    "                        for i in range(grid_sz)] for j in range(grid_sz)])\n",
    "\n",
    "    import scipy.ndimage.interpolation as inter\n",
    "    col = inter.rotate(col, angle, reshape = False)\n",
    "    return col"
   ]
  },
  {
   "cell_type": "markdown",
   "metadata": {},
   "source": [
    "### Map Risk zone and Tumor Zone in Matrix form\n"
   ]
  },
  {
   "cell_type": "code",
   "execution_count": null,
   "metadata": {},
   "outputs": [],
   "source": [
    "def IN_TUMOR(coordinates):\n",
    "    \"\"\"\n",
    "    Uses 6x6 grid cordinates\n",
    "    Returns in a given 2D coordinate lies within I shaped Tumor\n",
    "    \"\"\"\n",
    "    i = coordinates[0]; j = coordinates[1]\n",
    "    res = grid_res\n",
    "    if i>=2.5*res and i<=3.5*res and j>=1*res and j<=5*res:\n",
    "        return 1\n",
    "    elif (((i>=1.5*res and i<=2.5*res) or(i>=3.5*res and i<=4.5*res)) and \n",
    "          ((j>=1*res and j<=2*res) or (j>=4*res and j<=5*res))):\n",
    "        return 1\n",
    "    else:\n",
    "        return 0\n",
    "\n",
    "#Circular region (1 if in region, 0 o/w)\n",
    "map_risk  = np.asarray([[1 if dist.euclidean((i, j), center)<= radi else 0\n",
    "                        for i in range(grid_sz)] for j in range(grid_sz)])\n",
    "# I Shaped Tumor Region (1 if in region, 0 o/w)\n",
    "map_tumor = np.asarray([[IN_TUMOR((i, j)) \n",
    "                        for i in range(grid_sz)] for j in range(grid_sz)])\n",
    "# Risk region without tumor (1 if in region, 0 o/w)\n",
    "map_risk -= map_tumor"
   ]
  },
  {
   "cell_type": "code",
   "execution_count": null,
   "metadata": {},
   "outputs": [],
   "source": [
    "#Initialization of the optimization model \n",
    "problem = AMPL()\n",
    "\n",
    "problem.eval(\"\"\"\n",
    "param theta; #A 3 dimentional theta for set T, R, N\n",
    "param SETS = 1..3;\n",
    "\n",
    "set GRID_X;\n",
    "set GRID_Y;\n",
    "set BEAMLETS;\n",
    "set POS;  # Total number of beam angle positions to be used \n",
    "\n",
    "#For every positon, for every beamlet p,\n",
    "#we calculate intensity at every pixel (x, y)\n",
    "param D_ijp{POS, BEAMLETS, GRID_X, GRID_Y};\n",
    "\n",
    "var w{POS, BEAMLETS}; #weights for each beamlet in each position\n",
    "var D_ij{POS, GRID_X, GRID_Y};\n",
    "\n",
    "#A 3 channel T, R, N set's 1-0 mapping\n",
    "#for a channel, say R(represented by 1),\n",
    "#X, Y = 1 if (x, y) belongs to set R\n",
    "var MAP_TRN{3, GRID_X, GRID_Y}; \n",
    "\n",
    "\n",
    "minimize objective : sum{trn in 1..3}theta[trn]*sum{i in 1..GRID_X, j in 1..GRID_Y} MAP_TRN[trn, i, j]*sum{p in 1..POS}D_ij[p, i, j]\n",
    "\n",
    "subject to con{i in 1..GRID_X, j in 1..GRID_Y, p in 1..POS}: D_ij[p, i, j] = sum{b in 1..BEAMLETS}D_ijp[p, b, i, j]\n",
    "\n",
    "\"\"\")"
   ]
  },
  {
   "cell_type": "markdown",
   "metadata": {},
   "source": [
    "## Optimization Code Starts\n",
    "\n",
    "### optimization Parameters"
   ]
  },
  {
   "cell_type": "code",
   "execution_count": null,
   "metadata": {},
   "outputs": [],
   "source": [
    "theta = []"
   ]
  }
 ],
 "metadata": {
  "kernelspec": {
   "display_name": "Python 3",
   "language": "python",
   "name": "python3"
  },
  "language_info": {
   "codemirror_mode": {
    "name": "ipython",
    "version": 3
   },
   "file_extension": ".py",
   "mimetype": "text/x-python",
   "name": "python",
   "nbconvert_exporter": "python",
   "pygments_lexer": "ipython3",
   "version": "3.6.4"
  }
 },
 "nbformat": 4,
 "nbformat_minor": 2
}
