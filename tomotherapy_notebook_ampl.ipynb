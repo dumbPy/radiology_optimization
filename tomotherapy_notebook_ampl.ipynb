{
 "cells": [
  {
   "cell_type": "code",
   "execution_count": null,
   "metadata": {
    "collapsed": true
   },
   "outputs": [],
   "source": [
    "%autosave 60"
   ]
  },
  {
   "cell_type": "markdown",
   "metadata": {},
   "source": [
    "# Cancer Radiology Optimization\n",
    "\n",
    "This Code Deals with Python Implimentation of the Paper [*Optimizing the Delivery of\n",
    "Radiation Therapy to Cancer Patients* by David M Sheperd et. al. 1999](https://doi.org/10.1137/S0036144598342032) and then solving the problem given below using the Optimization Technique described in the above paper.\n",
    "\n",
    "The Radiotherapy technique described in the above paper is also called as ***Tomotherapy***"
   ]
  },
  {
   "cell_type": "markdown",
   "metadata": {},
   "source": [
    "Suppose we want to design an IMRT setup to obtain a dose corresponding to the following figure.\n",
    "\n",
    "![Image](https://lh3.googleusercontent.com/pVkc8Or2Tj2ninBZCKhSbRMXABF4YZkXpUdC7gaBrtRSJRX-T8m47gbCuDX-CXcxqMaa7P4yxqU)\n",
    "\n",
    "\n",
    "\n",
    "Assume that we want to achieve close to 10 units of radiation in the red region (denoting a tumor)\n",
    "and be as much below 4 units as possible in the remaining portion. You may assume the radiation\n",
    "intensity diminishes to half every 4 units (which means that this relation is not linear).\n",
    "Assuming that each beam is 1 unit wide, find a suitable configuration of beam weights and angles\n",
    "that can realize a plan as close as possible to the desired treatment. You may further assume that\n",
    "each beam is composed of 20 small beamlets each of whose intensities can be controlled separately.\n",
    "Solve one of the LPs or QPs proposed described by Shephard et al and find the optimal configuration.\n",
    "Describe the configuration in a readable manner. Also draw a pictorial representation of\n",
    "the intensity pattern achieved by your proposed solution. Comment on its quality. Clearly state\n",
    "all your assumptions and choices of parameters."
   ]
  },
  {
   "cell_type": "markdown",
   "metadata": {},
   "source": []
  },
  {
   "cell_type": "markdown",
   "metadata": {},
   "source": [
    "### Assumptions\n",
    "* All the beamlets are parallel\n",
    "* Intensity in the Risk region hard constrained below 4\n",
    "* 1 unit distance is divided into *grid_res* piece"
   ]
  },
  {
   "cell_type": "markdown",
   "metadata": {},
   "source": [
    "## Control Parameters"
   ]
  },
  {
   "cell_type": "code",
   "execution_count": 4,
   "metadata": {
    "collapsed": true
   },
   "outputs": [],
   "source": [
    "#These parameters can be changed as required.\n",
    "\n",
    "radi     =  3  #Radius of the circular organ region   \n",
    "grid_sz  =  6  # Length of the grid square area (grid size)\n",
    "grid_res = 20  # 1 unit length to be devided in grid_res Number of pizels per length\n",
    "beamlets = 20  # Number of beamlets per beam. All the beamlets in a beam have same angle\n",
    "pos      = 100  # Total angular positions of the beam setups\n"
   ]
  },
  {
   "cell_type": "markdown",
   "metadata": {},
   "source": [
    "### The Equation Formulation used is as per the below section of the original paper\n",
    "\n",
    "\n",
    "![Optimization Equation Formulation](https://lh3.googleusercontent.com/AgAYxUEkWx8GepAaODjgxY03sk7b8TdVTMcDcicAVFZ1AuAyPjeHp_cbyOoXz1hUJMA--xB-bVo)"
   ]
  },
  {
   "cell_type": "markdown",
   "metadata": {},
   "source": [
    "#### Importing Dependencies"
   ]
  },
  {
   "cell_type": "code",
   "execution_count": 5,
   "metadata": {
    "collapsed": true
   },
   "outputs": [],
   "source": [
    "\n",
    "import numpy as np\n",
    "import matplotlib.pyplot as plt\n",
    "from scipy.spatial import distance as dist\n",
    "from math import exp\n",
    "from amplpy import AMPL\n"
   ]
  },
  {
   "cell_type": "markdown",
   "metadata": {},
   "source": [
    "#### Artificial parameters to be used derived from the ***user parameters*** above\n",
    "Should Not be changed"
   ]
  },
  {
   "cell_type": "code",
   "execution_count": 6,
   "metadata": {
    "collapsed": true
   },
   "outputs": [],
   "source": [
    "#All length parameters will be multiplied with grid_res from hence forth\n",
    "grid_sz *= grid_res\n",
    "radi    *= grid_res\n",
    "center   = (radi, radi)\n",
    "# Get all angular positions    \n",
    "positions = np.linspace(0, 360, num=pos, endpoint=False)\n"
   ]
  },
  {
   "cell_type": "markdown",
   "metadata": {},
   "source": [
    "### Function for generating Dij_p matrix\n",
    "\n",
    "Dij_p matrix is generated for each beamlet at each position. "
   ]
  },
  {
   "cell_type": "code",
   "execution_count": 7,
   "metadata": {
    "collapsed": true
   },
   "outputs": [],
   "source": [
    "def GET_Dijp(angle, beamlet_no):\n",
    "    \"\"\"\n",
    "    Beamlet Number starts at 0 to n-1 for n beamlets\n",
    "    Returns a D_ij_p matrix\n",
    "    \"\"\"\n",
    "    def IN_COL(coordinates):\n",
    "        i = coordinates[0]; j = coordinates[1]\n",
    "        res = grid_res\n",
    "        if i>=(2.5+beamlet_no/20)*res and i<=(2.55+beamlet_no/20)*res:\n",
    "            return(exp(-1*j/(4*grid_res)))\n",
    "        else:\n",
    "            return 0\n",
    "\n",
    "    col = np.asarray([[IN_COL((i, j)) \n",
    "                        for i in range(grid_sz)] for j in range(grid_sz)])\n",
    "\n",
    "    import scipy.ndimage.interpolation as inter\n",
    "    col = inter.rotate(col, angle, reshape = False)\n",
    "    return col\n",
    "\n",
    "def IN_TUMOR(coordinates):\n",
    "    \"\"\"\n",
    "    Uses 6x6 grid cordinates\n",
    "    Returns: 1 if the passed cordinate is in tumor\n",
    "    \"\"\"\n",
    "    i = coordinates[0]; j = coordinates[1]\n",
    "    res = grid_res\n",
    "    if i>=2.5*res and i<=3.5*res and j>=1*res and j<=5*res:\n",
    "        return 1\n",
    "    elif (((i>=1.5*res and i<=2.5*res) or(i>=3.5*res and i<=4.5*res)) and \n",
    "          ((j>=1*res and j<=2*res) or (j>=4*res and j<=5*res))):\n",
    "        return 1\n",
    "    else:\n",
    "        return 0\n"
   ]
  },
  {
   "cell_type": "markdown",
   "metadata": {},
   "source": [
    "### Map Risk zone and Tumor Zone in Matrix form\n"
   ]
  },
  {
   "cell_type": "code",
   "execution_count": 8,
   "metadata": {
    "collapsed": true
   },
   "outputs": [],
   "source": [
    "#Calculating Tumor Map and Risk Map\n",
    "map_risk = np.asarray([[1 if dist.euclidean((i, j), center)<= radi else 0\n",
    "                        for i in range(grid_sz)] for j in range(grid_sz)])\n",
    "map_tumor = np.asarray([[IN_TUMOR((i, j)) \n",
    "                        for i in range(grid_sz)] for j in range(grid_sz)])\n",
    "plt.imshow(map_tumor, origin='lower')\n",
    "plt.colorbar()\n",
    "map_risk -= map_tumor\n",
    "\n",
    "plt.imshow(map_risk, origin='lower')\n",
    "plt.colorbar()\n",
    "\n",
    "#Calculating Dose matrix\n",
    "dose_risk = np.asarray([[4 if dist.euclidean((i, j), center)<= radi else 0\n",
    "                        for i in range(grid_sz)] for j in range(grid_sz)])\n",
    "dose_tumor= np.asarray([[10*IN_TUMOR((i, j)) \n",
    "                        for i in range(grid_sz)] for j in range(grid_sz)])\n",
    "\n",
    "#\n",
    "dose_tumor_temp= np.asarray([[4*IN_TUMOR((i, j)) \n",
    "                        for i in range(grid_sz)] for j in range(grid_sz)])    \n",
    "dose_risk -= dose_tumor_temp #Substract 4 value dosage from tumor area\n",
    "\n",
    "#Final Dose Requirements in One Matrix\n",
    "#dose in risk region = 4; dose in tumor = 10\n",
    "dose = dose_risk+dose_tumor"
   ]
  },
  {
   "cell_type": "code",
   "execution_count": null,
   "metadata": {
    "collapsed": true
   },
   "outputs": [],
   "source": [
    "\n",
    "#4D D_ijp [beam_position, beamlet, X, Y]\n",
    "D_ijp = []\n",
    "for beam_angle in positions:\n",
    "    beam = [GET_Dijp(beam_angle, beamlet_no) for beamlet_no in range(beamlets)]\n",
    "    D_ijp.append(beam)\n",
    "D_ijp = np.asarray(D_ijp)"
   ]
  },
  {
   "cell_type": "markdown",
   "metadata": {},
   "source": [
    "## AMPL API Code"
   ]
  },
  {
   "cell_type": "code",
   "execution_count": null,
   "metadata": {
    "collapsed": true
   },
   "outputs": [],
   "source": [
    "\"\"\"\n",
    "Optimization Code\n",
    "\"\"\"\n",
    "theta = [1, 0]\n",
    "map_trn = [map_tumor, map_risk]\n",
    "GRID_X = list(range(grid_sz))\n",
    "GRID_Y = list(range(grid_sz))\n",
    "BEAMLETS = list(range(beamlets))\n",
    "POS = list(range(pos))\n",
    "TRN = list(range(len(map_trn)))\n",
    "\n",
    "ampl = AMPL()\n",
    "ampl.read('model.mod')\n",
    "ampl.getSet('GRID_X').setValues(GRID_X)\n",
    "ampl.getSet('GRID_Y').setValues(GRID_Y)\n",
    "ampl.getSet('TRN').setValues(TRN)\n",
    "ampl.getSet('BEAMLETS').setValues(BEAMLETS)\n",
    "ampl.getSet('POS').setValues(POS)\n",
    "\n",
    "ampl.param['theta'] = theta\n",
    "ampl.param['D_ijp'] = {\n",
    "        (POS[p], BEAMLETS[b], GRID_X[x], GRID_Y[y]):D_ijp[p][b][x][y]\n",
    "        for p in range(len(POS))\n",
    "        for b in range(len(BEAMLETS))\n",
    "        for x in range(len(GRID_X))\n",
    "        for y in range(len(GRID_Y))\n",
    "        }\n",
    "\n",
    "ampl.param['d_ij'] = {\n",
    "        (GRID_X[x], GRID_Y[y]):dose[x][y]\n",
    "        for x in range(len(GRID_X))\n",
    "        for y in range(len(GRID_Y))\n",
    "        }\n",
    "\n",
    "ampl.param['MAP_TRN'] = {\n",
    "        (TRN[trn], GRID_X[x], GRID_Y[y]):map_trn[trn][x][y]\n",
    "        for trn in range(len(TRN))\n",
    "        for x   in range(len(GRID_X))\n",
    "        for y   in range(len(GRID_Y))\n",
    "        }\n",
    "\n",
    "ampl.param['MAP_RISK'] = {\n",
    "        (GRID_X[x], GRID_Y[y]):map_trn[1][x][y]\n",
    "        for x   in range(len(GRID_X))\n",
    "        for y   in range(len(GRID_Y))\n",
    "        }\n",
    "\n",
    "ampl.option['solver'] = 'gurobi'\n",
    "ampl.solve()\n"
   ]
  },
  {
   "cell_type": "markdown",
   "metadata": {},
   "source": [
    "## Solution Starts Here"
   ]
  },
  {
   "cell_type": "code",
   "execution_count": null,
   "metadata": {
    "collapsed": true
   },
   "outputs": [],
   "source": [
    "#Print the w values with their index\n",
    "#print(ampl.var['w'].getValues().toPandas())\n"
   ]
  },
  {
   "cell_type": "code",
   "execution_count": null,
   "metadata": {
    "collapsed": true
   },
   "outputs": [],
   "source": [
    "#Extrcting w values from the solution\n",
    "w_values = ampl.var['w'].getValues()\n",
    "w_values = list(w_values.getColumn('w.val'))\n",
    "w_values = np.asarray(w_values).reshape(pos, beamlets)\n",
    "#print(w_values)"
   ]
  },
  {
   "cell_type": "code",
   "execution_count": null,
   "metadata": {
    "collapsed": true
   },
   "outputs": [],
   "source": [
    "#Shape of the transformed weight matrix.\n",
    "w_values.shape"
   ]
  },
  {
   "cell_type": "code",
   "execution_count": null,
   "metadata": {
    "collapsed": true
   },
   "outputs": [],
   "source": [
    "\n",
    "final_map = np.zeros((grid_sz, grid_sz))\n",
    "for p in range(pos):\n",
    "    for b in range(beamlets):\n",
    "        final_map += w_values[p][b]*D_ijp[p][b]\n",
    "\n",
    "img = plt.imshow(final_map, origin='lower')\n",
    "plt.colorbar()\n",
    "plt.show()"
   ]
  },
  {
   "cell_type": "code",
   "execution_count": null,
   "metadata": {
    "collapsed": true
   },
   "outputs": [],
   "source": []
  }
 ],
 "metadata": {
  "kernelspec": {
   "display_name": "Python 3",
   "language": "python",
   "name": "python3"
  },
  "language_info": {
   "codemirror_mode": {
    "name": "ipython",
    "version": 3
   },
   "file_extension": ".py",
   "mimetype": "text/x-python",
   "name": "python",
   "nbconvert_exporter": "python",
   "pygments_lexer": "ipython3",
   "version": "3.6.5"
  }
 },
 "nbformat": 4,
 "nbformat_minor": 2
}
